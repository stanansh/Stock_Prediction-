{
 "cells": [
  {
   "cell_type": "code",
   "execution_count": 174,
   "id": "0a9edb6e",
   "metadata": {},
   "outputs": [],
   "source": [
    "import pandas as pd\n",
    "import numpy as np"
   ]
  },
  {
   "cell_type": "code",
   "execution_count": 175,
   "id": "1ac191eb",
   "metadata": {},
   "outputs": [
    {
     "data": {
      "text/html": [
       "<div>\n",
       "<style scoped>\n",
       "    .dataframe tbody tr th:only-of-type {\n",
       "        vertical-align: middle;\n",
       "    }\n",
       "\n",
       "    .dataframe tbody tr th {\n",
       "        vertical-align: top;\n",
       "    }\n",
       "\n",
       "    .dataframe thead th {\n",
       "        text-align: right;\n",
       "    }\n",
       "</style>\n",
       "<table border=\"1\" class=\"dataframe\">\n",
       "  <thead>\n",
       "    <tr style=\"text-align: right;\">\n",
       "      <th></th>\n",
       "      <th>Date</th>\n",
       "      <th>Open</th>\n",
       "      <th>High</th>\n",
       "      <th>Low</th>\n",
       "      <th>Close</th>\n",
       "      <th>Adj Close</th>\n",
       "      <th>Volume</th>\n",
       "    </tr>\n",
       "  </thead>\n",
       "  <tbody>\n",
       "    <tr>\n",
       "      <th>0</th>\n",
       "      <td>2018-07-16</td>\n",
       "      <td>209.437546</td>\n",
       "      <td>215.250046</td>\n",
       "      <td>209.137558</td>\n",
       "      <td>212.325058</td>\n",
       "      <td>207.814636</td>\n",
       "      <td>6271895</td>\n",
       "    </tr>\n",
       "    <tr>\n",
       "      <th>1</th>\n",
       "      <td>2018-07-17</td>\n",
       "      <td>212.250046</td>\n",
       "      <td>216.712555</td>\n",
       "      <td>211.312546</td>\n",
       "      <td>212.925049</td>\n",
       "      <td>208.401901</td>\n",
       "      <td>7235784</td>\n",
       "    </tr>\n",
       "    <tr>\n",
       "      <th>2</th>\n",
       "      <td>2018-07-18</td>\n",
       "      <td>214.500046</td>\n",
       "      <td>215.475052</td>\n",
       "      <td>212.737549</td>\n",
       "      <td>213.600052</td>\n",
       "      <td>209.062561</td>\n",
       "      <td>3062957</td>\n",
       "    </tr>\n",
       "    <tr>\n",
       "      <th>3</th>\n",
       "      <td>2018-07-19</td>\n",
       "      <td>214.500046</td>\n",
       "      <td>216.262558</td>\n",
       "      <td>211.200058</td>\n",
       "      <td>214.350052</td>\n",
       "      <td>209.796646</td>\n",
       "      <td>3717195</td>\n",
       "    </tr>\n",
       "    <tr>\n",
       "      <th>4</th>\n",
       "      <td>2018-07-20</td>\n",
       "      <td>215.625046</td>\n",
       "      <td>217.950058</td>\n",
       "      <td>210.375046</td>\n",
       "      <td>212.250046</td>\n",
       "      <td>207.741226</td>\n",
       "      <td>6983196</td>\n",
       "    </tr>\n",
       "  </tbody>\n",
       "</table>\n",
       "</div>"
      ],
      "text/plain": [
       "         Date        Open        High         Low       Close   Adj Close  \\\n",
       "0  2018-07-16  209.437546  215.250046  209.137558  212.325058  207.814636   \n",
       "1  2018-07-17  212.250046  216.712555  211.312546  212.925049  208.401901   \n",
       "2  2018-07-18  214.500046  215.475052  212.737549  213.600052  209.062561   \n",
       "3  2018-07-19  214.500046  216.262558  211.200058  214.350052  209.796646   \n",
       "4  2018-07-20  215.625046  217.950058  210.375046  212.250046  207.741226   \n",
       "\n",
       "    Volume  \n",
       "0  6271895  \n",
       "1  7235784  \n",
       "2  3062957  \n",
       "3  3717195  \n",
       "4  6983196  "
      ]
     },
     "execution_count": 175,
     "metadata": {},
     "output_type": "execute_result"
    }
   ],
   "source": [
    "df=pd.read_csv('WIPRO.NS (2).csv')\n",
    "df.head()"
   ]
  },
  {
   "cell_type": "code",
   "execution_count": 176,
   "id": "5ce6ce2a",
   "metadata": {},
   "outputs": [
    {
     "data": {
      "text/html": [
       "<div>\n",
       "<style scoped>\n",
       "    .dataframe tbody tr th:only-of-type {\n",
       "        vertical-align: middle;\n",
       "    }\n",
       "\n",
       "    .dataframe tbody tr th {\n",
       "        vertical-align: top;\n",
       "    }\n",
       "\n",
       "    .dataframe thead th {\n",
       "        text-align: right;\n",
       "    }\n",
       "</style>\n",
       "<table border=\"1\" class=\"dataframe\">\n",
       "  <thead>\n",
       "    <tr style=\"text-align: right;\">\n",
       "      <th></th>\n",
       "      <th>Date</th>\n",
       "      <th>Open</th>\n",
       "      <th>High</th>\n",
       "      <th>Low</th>\n",
       "      <th>Close</th>\n",
       "      <th>Adj Close</th>\n",
       "      <th>Volume</th>\n",
       "    </tr>\n",
       "  </thead>\n",
       "  <tbody>\n",
       "    <tr>\n",
       "      <th>1229</th>\n",
       "      <td>2023-07-10</td>\n",
       "      <td>395.850006</td>\n",
       "      <td>395.850006</td>\n",
       "      <td>389.649994</td>\n",
       "      <td>389.950012</td>\n",
       "      <td>389.950012</td>\n",
       "      <td>2815200</td>\n",
       "    </tr>\n",
       "    <tr>\n",
       "      <th>1230</th>\n",
       "      <td>2023-07-11</td>\n",
       "      <td>390.000000</td>\n",
       "      <td>392.799988</td>\n",
       "      <td>387.850006</td>\n",
       "      <td>392.049988</td>\n",
       "      <td>392.049988</td>\n",
       "      <td>4817419</td>\n",
       "    </tr>\n",
       "    <tr>\n",
       "      <th>1231</th>\n",
       "      <td>2023-07-12</td>\n",
       "      <td>393.899994</td>\n",
       "      <td>393.950012</td>\n",
       "      <td>390.350006</td>\n",
       "      <td>391.850006</td>\n",
       "      <td>391.850006</td>\n",
       "      <td>3424110</td>\n",
       "    </tr>\n",
       "    <tr>\n",
       "      <th>1232</th>\n",
       "      <td>2023-07-13</td>\n",
       "      <td>391.850006</td>\n",
       "      <td>398.600006</td>\n",
       "      <td>391.250000</td>\n",
       "      <td>394.299988</td>\n",
       "      <td>394.299988</td>\n",
       "      <td>6797863</td>\n",
       "    </tr>\n",
       "    <tr>\n",
       "      <th>1233</th>\n",
       "      <td>2023-07-14</td>\n",
       "      <td>394.750000</td>\n",
       "      <td>405.500000</td>\n",
       "      <td>392.350006</td>\n",
       "      <td>405.049988</td>\n",
       "      <td>405.049988</td>\n",
       "      <td>15683392</td>\n",
       "    </tr>\n",
       "  </tbody>\n",
       "</table>\n",
       "</div>"
      ],
      "text/plain": [
       "            Date        Open        High         Low       Close   Adj Close  \\\n",
       "1229  2023-07-10  395.850006  395.850006  389.649994  389.950012  389.950012   \n",
       "1230  2023-07-11  390.000000  392.799988  387.850006  392.049988  392.049988   \n",
       "1231  2023-07-12  393.899994  393.950012  390.350006  391.850006  391.850006   \n",
       "1232  2023-07-13  391.850006  398.600006  391.250000  394.299988  394.299988   \n",
       "1233  2023-07-14  394.750000  405.500000  392.350006  405.049988  405.049988   \n",
       "\n",
       "        Volume  \n",
       "1229   2815200  \n",
       "1230   4817419  \n",
       "1231   3424110  \n",
       "1232   6797863  \n",
       "1233  15683392  "
      ]
     },
     "execution_count": 176,
     "metadata": {},
     "output_type": "execute_result"
    }
   ],
   "source": [
    "df.tail()"
   ]
  },
  {
   "cell_type": "code",
   "execution_count": 177,
   "id": "b817e08d",
   "metadata": {},
   "outputs": [
    {
     "name": "stdout",
     "output_type": "stream",
     "text": [
      "Date         0\n",
      "Open         0\n",
      "High         0\n",
      "Low          0\n",
      "Close        0\n",
      "Adj Close    0\n",
      "Volume       0\n",
      "dtype: int64\n"
     ]
    }
   ],
   "source": [
    "\n",
    "print(df.isnull().sum())"
   ]
  },
  {
   "cell_type": "code",
   "execution_count": 178,
   "id": "ac160129",
   "metadata": {},
   "outputs": [],
   "source": [
    "df['symbol']='wpr'"
   ]
  },
  {
   "cell_type": "code",
   "execution_count": 179,
   "id": "36792457",
   "metadata": {},
   "outputs": [
    {
     "data": {
      "text/html": [
       "<div>\n",
       "<style scoped>\n",
       "    .dataframe tbody tr th:only-of-type {\n",
       "        vertical-align: middle;\n",
       "    }\n",
       "\n",
       "    .dataframe tbody tr th {\n",
       "        vertical-align: top;\n",
       "    }\n",
       "\n",
       "    .dataframe thead th {\n",
       "        text-align: right;\n",
       "    }\n",
       "</style>\n",
       "<table border=\"1\" class=\"dataframe\">\n",
       "  <thead>\n",
       "    <tr style=\"text-align: right;\">\n",
       "      <th></th>\n",
       "      <th>Date</th>\n",
       "      <th>Open</th>\n",
       "      <th>High</th>\n",
       "      <th>Low</th>\n",
       "      <th>Close</th>\n",
       "      <th>Adj Close</th>\n",
       "      <th>Volume</th>\n",
       "      <th>symbol</th>\n",
       "    </tr>\n",
       "  </thead>\n",
       "  <tbody>\n",
       "    <tr>\n",
       "      <th>0</th>\n",
       "      <td>2018-07-16</td>\n",
       "      <td>209.437546</td>\n",
       "      <td>215.250046</td>\n",
       "      <td>209.137558</td>\n",
       "      <td>212.325058</td>\n",
       "      <td>207.814636</td>\n",
       "      <td>6271895</td>\n",
       "      <td>wpr</td>\n",
       "    </tr>\n",
       "    <tr>\n",
       "      <th>1</th>\n",
       "      <td>2018-07-17</td>\n",
       "      <td>212.250046</td>\n",
       "      <td>216.712555</td>\n",
       "      <td>211.312546</td>\n",
       "      <td>212.925049</td>\n",
       "      <td>208.401901</td>\n",
       "      <td>7235784</td>\n",
       "      <td>wpr</td>\n",
       "    </tr>\n",
       "    <tr>\n",
       "      <th>2</th>\n",
       "      <td>2018-07-18</td>\n",
       "      <td>214.500046</td>\n",
       "      <td>215.475052</td>\n",
       "      <td>212.737549</td>\n",
       "      <td>213.600052</td>\n",
       "      <td>209.062561</td>\n",
       "      <td>3062957</td>\n",
       "      <td>wpr</td>\n",
       "    </tr>\n",
       "    <tr>\n",
       "      <th>3</th>\n",
       "      <td>2018-07-19</td>\n",
       "      <td>214.500046</td>\n",
       "      <td>216.262558</td>\n",
       "      <td>211.200058</td>\n",
       "      <td>214.350052</td>\n",
       "      <td>209.796646</td>\n",
       "      <td>3717195</td>\n",
       "      <td>wpr</td>\n",
       "    </tr>\n",
       "    <tr>\n",
       "      <th>4</th>\n",
       "      <td>2018-07-20</td>\n",
       "      <td>215.625046</td>\n",
       "      <td>217.950058</td>\n",
       "      <td>210.375046</td>\n",
       "      <td>212.250046</td>\n",
       "      <td>207.741226</td>\n",
       "      <td>6983196</td>\n",
       "      <td>wpr</td>\n",
       "    </tr>\n",
       "  </tbody>\n",
       "</table>\n",
       "</div>"
      ],
      "text/plain": [
       "         Date        Open        High         Low       Close   Adj Close  \\\n",
       "0  2018-07-16  209.437546  215.250046  209.137558  212.325058  207.814636   \n",
       "1  2018-07-17  212.250046  216.712555  211.312546  212.925049  208.401901   \n",
       "2  2018-07-18  214.500046  215.475052  212.737549  213.600052  209.062561   \n",
       "3  2018-07-19  214.500046  216.262558  211.200058  214.350052  209.796646   \n",
       "4  2018-07-20  215.625046  217.950058  210.375046  212.250046  207.741226   \n",
       "\n",
       "    Volume symbol  \n",
       "0  6271895    wpr  \n",
       "1  7235784    wpr  \n",
       "2  3062957    wpr  \n",
       "3  3717195    wpr  \n",
       "4  6983196    wpr  "
      ]
     },
     "execution_count": 179,
     "metadata": {},
     "output_type": "execute_result"
    }
   ],
   "source": [
    "df.head()"
   ]
  },
  {
   "cell_type": "code",
   "execution_count": 180,
   "id": "21433632",
   "metadata": {},
   "outputs": [],
   "source": [
    "df1=df.reset_index()['Close']"
   ]
  },
  {
   "cell_type": "code",
   "execution_count": 181,
   "id": "4f260c02",
   "metadata": {},
   "outputs": [
    {
     "data": {
      "text/plain": [
       "0       212.325058\n",
       "1       212.925049\n",
       "2       213.600052\n",
       "3       214.350052\n",
       "4       212.250046\n",
       "           ...    \n",
       "1229    389.950012\n",
       "1230    392.049988\n",
       "1231    391.850006\n",
       "1232    394.299988\n",
       "1233    405.049988\n",
       "Name: Close, Length: 1234, dtype: float64"
      ]
     },
     "execution_count": 181,
     "metadata": {},
     "output_type": "execute_result"
    }
   ],
   "source": [
    "df1"
   ]
  },
  {
   "cell_type": "code",
   "execution_count": 182,
   "id": "ae8bd38c",
   "metadata": {
    "scrolled": true
   },
   "outputs": [
    {
     "data": {
      "text/plain": [
       "[<matplotlib.lines.Line2D at 0x2b8fdf94820>]"
      ]
     },
     "execution_count": 182,
     "metadata": {},
     "output_type": "execute_result"
    },
    {
     "data": {
      "image/png": "[encoded data removed]",
      "text/plain": [
       "<Figure size 640x480 with 1 Axes>"
      ]
     },
     "metadata": {},
     "output_type": "display_data"
    }
   ],
   "source": [
    "import matplotlib.pyplot as plt\n",
    "plt.plot(df1)"
   ]
  },
  {
   "cell_type": "code",
   "execution_count": 183,
   "id": "30c15c62",
   "metadata": {},
   "outputs": [
    {
     "data": {
      "text/plain": [
       "0       212.325058\n",
       "1       212.925049\n",
       "2       213.600052\n",
       "3       214.350052\n",
       "4       212.250046\n",
       "           ...    \n",
       "1229    389.950012\n",
       "1230    392.049988\n",
       "1231    391.850006\n",
       "1232    394.299988\n",
       "1233    405.049988\n",
       "Name: Close, Length: 1234, dtype: float64"
      ]
     },
     "execution_count": 183,
     "metadata": {},
     "output_type": "execute_result"
    }
   ],
   "source": [
    "df1"
   ]
  },
  {
   "cell_type": "code",
   "execution_count": 184,
   "id": "775be0bd",
   "metadata": {},
   "outputs": [],
   "source": [
    "from sklearn.preprocessing import MinMaxScaler\n",
    "scaler=MinMaxScaler(feature_range=(0,1))\n",
    "df1=scaler.fit_transform(np.array(df1).reshape(-1,1))"
   ]
  },
  {
   "cell_type": "code",
   "execution_count": 185,
   "id": "08381a28",
   "metadata": {},
   "outputs": [
    {
     "name": "stdout",
     "output_type": "stream",
     "text": [
      "[[0.08937683]\n",
      " [0.09044987]\n",
      " [0.09165706]\n",
      " ...\n",
      " [0.41044443]\n",
      " [0.41482605]\n",
      " [0.43405166]]\n"
     ]
    }
   ],
   "source": [
    "print(df1)"
   ]
  },
  {
   "cell_type": "code",
   "execution_count": 186,
   "id": "4e412780",
   "metadata": {},
   "outputs": [],
   "source": [
    "training_size=int(len(df1)*0.65)\n",
    "test_size=len(df1)-training_size\n",
    "train_data,test_data=df1[0:training_size,:],df1[training_size:len(df1),:1]"
   ]
  },
  {
   "cell_type": "code",
   "execution_count": 187,
   "id": "fb4d138e",
   "metadata": {},
   "outputs": [
    {
     "data": {
      "text/plain": [
       "(802, 432)"
      ]
     },
     "execution_count": 187,
     "metadata": {},
     "output_type": "execute_result"
    }
   ],
   "source": [
    "training_size,test_size\n"
   ]
  },
  {
   "cell_type": "code",
   "execution_count": 188,
   "id": "5ed2c81b",
   "metadata": {},
   "outputs": [
    {
     "data": {
      "text/plain": [
       "array([[0.08937683],\n",
       "       [0.09044987],\n",
       "       [0.09165706],\n",
       "       [0.09299838],\n",
       "       [0.08924267],\n",
       "       [0.08045703],\n",
       "       [0.07576241],\n",
       "       [0.07810972],\n",
       "       [0.07368335],\n",
       "       [0.07784144]])"
      ]
     },
     "execution_count": 188,
     "metadata": {},
     "output_type": "execute_result"
    }
   ],
   "source": [
    "train_data[0:10]"
   ]
  },
  {
   "cell_type": "code",
   "execution_count": 189,
   "id": "617953a3",
   "metadata": {},
   "outputs": [],
   "source": [
    "def create_dataset(dataset, time_step=1):\n",
    "    dataX, dataY = [], []\n",
    "    for i in range(len(dataset)-time_step-1):\n",
    "        a = dataset[i:(i+time_step), 0]   ###i=0, 0,1,2,3-----99   100 \n",
    "        dataX.append(a)\n",
    "        dataY.append(dataset[i + time_step, 0])\n",
    "    return np.array(dataX), np.array(dataY)"
   ]
  },
  {
   "cell_type": "code",
   "execution_count": 190,
   "id": "d2864a62",
   "metadata": {},
   "outputs": [],
   "source": [
    "time_step = 100\n",
    "X_train, y_train = create_dataset(train_data, time_step)\n",
    "X_test, ytest = create_dataset(test_data, time_step)"
   ]
  },
  {
   "cell_type": "code",
   "execution_count": 191,
   "id": "5fc337b2",
   "metadata": {},
   "outputs": [
    {
     "name": "stdout",
     "output_type": "stream",
     "text": [
      "(701, 100)\n",
      "(701,)\n"
     ]
    },
    {
     "data": {
      "text/plain": [
       "(None, None)"
      ]
     },
     "execution_count": 191,
     "metadata": {},
     "output_type": "execute_result"
    }
   ],
   "source": [
    "print(X_train.shape), print(y_train.shape)"
   ]
  },
  {
   "cell_type": "code",
   "execution_count": 192,
   "id": "db57ad3e",
   "metadata": {},
   "outputs": [
    {
     "name": "stdout",
     "output_type": "stream",
     "text": [
      "(331, 100)\n",
      "(331,)\n"
     ]
    },
    {
     "data": {
      "text/plain": [
       "(None, None)"
      ]
     },
     "execution_count": 192,
     "metadata": {},
     "output_type": "execute_result"
    }
   ],
   "source": [
    "print(X_test.shape), print(ytest.shape)"
   ]
  },
  {
   "cell_type": "code",
   "execution_count": 193,
   "id": "c4f31558",
   "metadata": {},
   "outputs": [],
   "source": [
    "X_train =X_train.reshape(X_train.shape[0],X_train.shape[1] , 1)\n",
    "X_test = X_test.reshape(X_test.shape[0],X_test.shape[1] , 1)"
   ]
  },
  {
   "cell_type": "code",
   "execution_count": 194,
   "id": "7a76a966",
   "metadata": {},
   "outputs": [],
   "source": [
    "from tensorflow.keras.models import Sequential\n",
    "from tensorflow.keras.layers import Dense\n",
    "from tensorflow.keras.layers import LSTM"
   ]
  },
  {
   "cell_type": "code",
   "execution_count": 195,
   "id": "29d4353a",
   "metadata": {},
   "outputs": [],
   "source": [
    "model=Sequential()\n",
    "model.add(LSTM(50,return_sequences=True,input_shape=(100,1)))\n",
    "model.add(LSTM(50,return_sequences=True))\n",
    "model.add(LSTM(50))\n",
    "model.add(Dense(1))\n",
    "model.compile(loss='mean_squared_error',optimizer='adam')"
   ]
  },
  {
   "cell_type": "code",
   "execution_count": 196,
   "id": "1967cff3",
   "metadata": {
    "scrolled": true
   },
   "outputs": [
    {
     "name": "stdout",
     "output_type": "stream",
     "text": [
      "Model: \"sequential_1\"\n",
      "_________________________________________________________________\n",
      " Layer (type)                Output Shape              Param #   \n",
      "=================================================================\n",
      " lstm_3 (LSTM)               (None, 100, 50)           10400     \n",
      "                                                                 \n",
      " lstm_4 (LSTM)               (None, 100, 50)           20200     \n",
      "                                                                 \n",
      " lstm_5 (LSTM)               (None, 50)                20200     \n",
      "                                                                 \n",
      " dense_1 (Dense)             (None, 1)                 51        \n",
      "                                                                 \n",
      "=================================================================\n",
      "Total params: 50,851\n",
      "Trainable params: 50,851\n",
      "Non-trainable params: 0\n",
      "_________________________________________________________________\n"
     ]
    }
   ],
   "source": [
    "model.summary()"
   ]
  },
  {
   "cell_type": "code",
   "execution_count": 197,
   "id": "61b0d02c",
   "metadata": {},
   "outputs": [
    {
     "name": "stdout",
     "output_type": "stream",
     "text": [
      "Epoch 1/100\n",
      "11/11 [==============================] - 11s 280ms/step - loss: 0.0388 - val_loss: 0.0049\n",
      "Epoch 2/100\n",
      "11/11 [==============================] - 1s 138ms/step - loss: 0.0067 - val_loss: 0.0131\n",
      "Epoch 3/100\n",
      "11/11 [==============================] - 2s 150ms/step - loss: 0.0024 - val_loss: 0.0017\n",
      "Epoch 4/100\n",
      "11/11 [==============================] - 2s 160ms/step - loss: 0.0014 - val_loss: 0.0015\n",
      "Epoch 5/100\n",
      "11/11 [==============================] - 2s 157ms/step - loss: 0.0013 - val_loss: 0.0035\n",
      "Epoch 6/100\n",
      "11/11 [==============================] - 1s 136ms/step - loss: 0.0011 - val_loss: 0.0032\n",
      "Epoch 7/100\n",
      "11/11 [==============================] - 1s 128ms/step - loss: 0.0010 - val_loss: 0.0026\n",
      "Epoch 8/100\n",
      "11/11 [==============================] - 1s 136ms/step - loss: 0.0010 - val_loss: 0.0022\n",
      "Epoch 9/100\n",
      "11/11 [==============================] - 2s 147ms/step - loss: 0.0010 - val_loss: 0.0020\n",
      "Epoch 10/100\n",
      "11/11 [==============================] - 2s 154ms/step - loss: 0.0010 - val_loss: 0.0027\n",
      "Epoch 11/100\n",
      "11/11 [==============================] - 2s 160ms/step - loss: 0.0010 - val_loss: 0.0028\n",
      "Epoch 12/100\n",
      "11/11 [==============================] - 2s 163ms/step - loss: 0.0010 - val_loss: 0.0019\n",
      "Epoch 13/100\n",
      "11/11 [==============================] - 2s 173ms/step - loss: 0.0010 - val_loss: 0.0015\n",
      "Epoch 14/100\n",
      "11/11 [==============================] - 2s 166ms/step - loss: 9.9164e-04 - val_loss: 0.0023\n",
      "Epoch 15/100\n",
      "11/11 [==============================] - 2s 168ms/step - loss: 9.9275e-04 - val_loss: 0.0024\n",
      "Epoch 16/100\n",
      "11/11 [==============================] - 2s 153ms/step - loss: 9.7377e-04 - val_loss: 0.0019\n",
      "Epoch 17/100\n",
      "11/11 [==============================] - 2s 157ms/step - loss: 9.8061e-04 - val_loss: 0.0019\n",
      "Epoch 18/100\n",
      "11/11 [==============================] - 2s 162ms/step - loss: 9.5003e-04 - val_loss: 0.0020\n",
      "Epoch 19/100\n",
      "11/11 [==============================] - 2s 151ms/step - loss: 9.2398e-04 - val_loss: 0.0026\n",
      "Epoch 20/100\n",
      "11/11 [==============================] - 2s 154ms/step - loss: 9.8378e-04 - val_loss: 0.0039\n",
      "Epoch 21/100\n",
      "11/11 [==============================] - 2s 163ms/step - loss: 0.0011 - val_loss: 0.0022\n",
      "Epoch 22/100\n",
      "11/11 [==============================] - 2s 169ms/step - loss: 9.8415e-04 - val_loss: 0.0025\n",
      "Epoch 23/100\n",
      "11/11 [==============================] - 2s 166ms/step - loss: 9.8725e-04 - val_loss: 0.0019\n",
      "Epoch 24/100\n",
      "11/11 [==============================] - 2s 167ms/step - loss: 8.9759e-04 - val_loss: 0.0025\n",
      "Epoch 25/100\n",
      "11/11 [==============================] - 2s 160ms/step - loss: 9.0018e-04 - val_loss: 0.0024\n",
      "Epoch 26/100\n",
      "11/11 [==============================] - 2s 153ms/step - loss: 8.9314e-04 - val_loss: 0.0014\n",
      "Epoch 27/100\n",
      "11/11 [==============================] - 2s 167ms/step - loss: 8.7606e-04 - val_loss: 0.0014\n",
      "Epoch 28/100\n",
      "11/11 [==============================] - 2s 157ms/step - loss: 8.7440e-04 - val_loss: 0.0016\n",
      "Epoch 29/100\n",
      "11/11 [==============================] - 2s 162ms/step - loss: 8.7515e-04 - val_loss: 0.0017\n",
      "Epoch 30/100\n",
      "11/11 [==============================] - 2s 158ms/step - loss: 8.2935e-04 - val_loss: 0.0018\n",
      "Epoch 31/100\n",
      "11/11 [==============================] - 2s 167ms/step - loss: 9.9029e-04 - val_loss: 0.0028\n",
      "Epoch 32/100\n",
      "11/11 [==============================] - 2s 170ms/step - loss: 8.6879e-04 - val_loss: 0.0014\n",
      "Epoch 33/100\n",
      "11/11 [==============================] - 2s 163ms/step - loss: 8.3879e-04 - val_loss: 8.7811e-04\n",
      "Epoch 34/100\n",
      "11/11 [==============================] - 2s 170ms/step - loss: 8.2086e-04 - val_loss: 0.0011\n",
      "Epoch 35/100\n",
      "11/11 [==============================] - 2s 164ms/step - loss: 7.9266e-04 - val_loss: 0.0013\n",
      "Epoch 36/100\n",
      "11/11 [==============================] - 2s 170ms/step - loss: 8.1275e-04 - val_loss: 0.0024\n",
      "Epoch 37/100\n",
      "11/11 [==============================] - 2s 167ms/step - loss: 8.4835e-04 - val_loss: 9.5031e-04\n",
      "Epoch 38/100\n",
      "11/11 [==============================] - 2s 163ms/step - loss: 8.4148e-04 - val_loss: 8.9736e-04\n",
      "Epoch 39/100\n",
      "11/11 [==============================] - 2s 158ms/step - loss: 8.4644e-04 - val_loss: 0.0019\n",
      "Epoch 40/100\n",
      "11/11 [==============================] - 2s 177ms/step - loss: 8.1787e-04 - val_loss: 0.0011\n",
      "Epoch 41/100\n",
      "11/11 [==============================] - 2s 180ms/step - loss: 8.0005e-04 - val_loss: 7.3604e-04\n",
      "Epoch 42/100\n",
      "11/11 [==============================] - 2s 169ms/step - loss: 7.9266e-04 - val_loss: 0.0014\n",
      "Epoch 43/100\n",
      "11/11 [==============================] - 2s 161ms/step - loss: 7.3238e-04 - val_loss: 0.0012\n",
      "Epoch 44/100\n",
      "11/11 [==============================] - 2s 168ms/step - loss: 7.4318e-04 - val_loss: 6.8035e-04\n",
      "Epoch 45/100\n",
      "11/11 [==============================] - 2s 162ms/step - loss: 8.1602e-04 - val_loss: 0.0014\n",
      "Epoch 46/100\n",
      "11/11 [==============================] - 2s 159ms/step - loss: 7.2320e-04 - val_loss: 0.0018\n",
      "Epoch 47/100\n",
      "11/11 [==============================] - 2s 167ms/step - loss: 7.9273e-04 - val_loss: 6.8767e-04\n",
      "Epoch 48/100\n",
      "11/11 [==============================] - 2s 168ms/step - loss: 6.9034e-04 - val_loss: 0.0010\n",
      "Epoch 49/100\n",
      "11/11 [==============================] - 2s 168ms/step - loss: 7.1502e-04 - val_loss: 9.2089e-04\n",
      "Epoch 50/100\n",
      "11/11 [==============================] - 2s 170ms/step - loss: 7.1275e-04 - val_loss: 6.3629e-04\n",
      "Epoch 51/100\n",
      "11/11 [==============================] - 2s 176ms/step - loss: 7.7502e-04 - val_loss: 0.0018\n",
      "Epoch 52/100\n",
      "11/11 [==============================] - 2s 167ms/step - loss: 7.1666e-04 - val_loss: 8.3610e-04\n",
      "Epoch 53/100\n",
      "11/11 [==============================] - 2s 167ms/step - loss: 6.5054e-04 - val_loss: 0.0010\n",
      "Epoch 54/100\n",
      "11/11 [==============================] - 2s 164ms/step - loss: 6.8306e-04 - val_loss: 7.8263e-04\n",
      "Epoch 55/100\n",
      "11/11 [==============================] - 2s 170ms/step - loss: 6.8112e-04 - val_loss: 5.8508e-04\n",
      "Epoch 56/100\n",
      "11/11 [==============================] - 2s 161ms/step - loss: 7.1320e-04 - val_loss: 0.0022\n",
      "Epoch 57/100\n",
      "11/11 [==============================] - 2s 173ms/step - loss: 7.5723e-04 - val_loss: 7.7450e-04\n",
      "Epoch 58/100\n",
      "11/11 [==============================] - 2s 172ms/step - loss: 6.4837e-04 - val_loss: 0.0012\n",
      "Epoch 59/100\n",
      "11/11 [==============================] - 2s 170ms/step - loss: 6.2743e-04 - val_loss: 0.0011\n",
      "Epoch 60/100\n",
      "11/11 [==============================] - 2s 168ms/step - loss: 6.1381e-04 - val_loss: 7.0383e-04\n",
      "Epoch 61/100\n",
      "11/11 [==============================] - 2s 182ms/step - loss: 5.9833e-04 - val_loss: 8.2272e-04\n",
      "Epoch 62/100\n",
      "11/11 [==============================] - 2s 180ms/step - loss: 5.8349e-04 - val_loss: 8.4944e-04\n",
      "Epoch 63/100\n",
      "11/11 [==============================] - 2s 168ms/step - loss: 5.8006e-04 - val_loss: 8.6366e-04\n",
      "Epoch 64/100\n",
      "11/11 [==============================] - 2s 166ms/step - loss: 6.2125e-04 - val_loss: 5.6887e-04\n",
      "Epoch 65/100\n",
      "11/11 [==============================] - 2s 168ms/step - loss: 6.5079e-04 - val_loss: 0.0016\n",
      "Epoch 66/100\n",
      "11/11 [==============================] - 2s 176ms/step - loss: 6.0567e-04 - val_loss: 7.7676e-04\n",
      "Epoch 67/100\n",
      "11/11 [==============================] - 2s 176ms/step - loss: 5.4247e-04 - val_loss: 9.0998e-04\n",
      "Epoch 68/100\n",
      "11/11 [==============================] - 2s 178ms/step - loss: 5.7800e-04 - val_loss: 5.4907e-04\n",
      "Epoch 69/100\n",
      "11/11 [==============================] - 2s 170ms/step - loss: 5.7029e-04 - val_loss: 0.0011\n",
      "Epoch 70/100\n",
      "11/11 [==============================] - 2s 159ms/step - loss: 5.3207e-04 - val_loss: 5.9756e-04\n",
      "Epoch 71/100\n",
      "11/11 [==============================] - 2s 161ms/step - loss: 5.4981e-04 - val_loss: 7.6422e-04\n",
      "Epoch 72/100\n",
      "11/11 [==============================] - 2s 167ms/step - loss: 5.3597e-04 - val_loss: 5.6685e-04\n",
      "Epoch 73/100\n",
      "11/11 [==============================] - 2s 164ms/step - loss: 5.4121e-04 - val_loss: 7.2049e-04\n",
      "Epoch 74/100\n",
      "11/11 [==============================] - 2s 165ms/step - loss: 5.3426e-04 - val_loss: 5.1731e-04\n",
      "Epoch 75/100\n",
      "11/11 [==============================] - 2s 183ms/step - loss: 5.1296e-04 - val_loss: 0.0010\n",
      "Epoch 76/100\n",
      "11/11 [==============================] - 2s 177ms/step - loss: 5.2458e-04 - val_loss: 5.0312e-04\n",
      "Epoch 77/100\n",
      "11/11 [==============================] - 2s 172ms/step - loss: 5.1070e-04 - val_loss: 0.0011\n"
     ]
    },
    {
     "name": "stdout",
     "output_type": "stream",
     "text": [
      "Epoch 78/100\n",
      "11/11 [==============================] - 2s 164ms/step - loss: 4.9340e-04 - val_loss: 6.8642e-04\n",
      "Epoch 79/100\n",
      "11/11 [==============================] - 2s 168ms/step - loss: 4.8121e-04 - val_loss: 9.5470e-04\n",
      "Epoch 80/100\n",
      "11/11 [==============================] - 2s 168ms/step - loss: 5.1039e-04 - val_loss: 8.2141e-04\n",
      "Epoch 81/100\n",
      "11/11 [==============================] - 2s 163ms/step - loss: 5.3577e-04 - val_loss: 7.4926e-04\n",
      "Epoch 82/100\n",
      "11/11 [==============================] - 2s 168ms/step - loss: 5.3462e-04 - val_loss: 8.5194e-04\n",
      "Epoch 83/100\n",
      "11/11 [==============================] - 2s 170ms/step - loss: 4.6920e-04 - val_loss: 7.6366e-04\n",
      "Epoch 84/100\n",
      "11/11 [==============================] - 2s 168ms/step - loss: 4.8030e-04 - val_loss: 6.1974e-04\n",
      "Epoch 85/100\n",
      "11/11 [==============================] - 2s 178ms/step - loss: 4.7955e-04 - val_loss: 7.6714e-04\n",
      "Epoch 86/100\n",
      "11/11 [==============================] - 2s 173ms/step - loss: 4.8469e-04 - val_loss: 5.9498e-04\n",
      "Epoch 87/100\n",
      "11/11 [==============================] - 2s 165ms/step - loss: 4.4618e-04 - val_loss: 4.8360e-04\n",
      "Epoch 88/100\n",
      "11/11 [==============================] - 2s 160ms/step - loss: 4.7188e-04 - val_loss: 0.0012\n",
      "Epoch 89/100\n",
      "11/11 [==============================] - 2s 168ms/step - loss: 4.8961e-04 - val_loss: 4.5354e-04\n",
      "Epoch 90/100\n",
      "11/11 [==============================] - 2s 170ms/step - loss: 5.0580e-04 - val_loss: 0.0019\n",
      "Epoch 91/100\n",
      "11/11 [==============================] - 2s 164ms/step - loss: 5.8867e-04 - val_loss: 5.2583e-04\n",
      "Epoch 92/100\n",
      "11/11 [==============================] - 2s 173ms/step - loss: 7.2983e-04 - val_loss: 5.1057e-04\n",
      "Epoch 93/100\n",
      "11/11 [==============================] - 2s 180ms/step - loss: 6.0571e-04 - val_loss: 5.4829e-04\n",
      "Epoch 94/100\n",
      "11/11 [==============================] - 2s 178ms/step - loss: 5.0716e-04 - val_loss: 9.4410e-04\n",
      "Epoch 95/100\n",
      "11/11 [==============================] - 2s 168ms/step - loss: 4.4023e-04 - val_loss: 5.9239e-04\n",
      "Epoch 96/100\n",
      "11/11 [==============================] - 2s 168ms/step - loss: 4.5576e-04 - val_loss: 7.0556e-04\n",
      "Epoch 97/100\n",
      "11/11 [==============================] - 2s 172ms/step - loss: 4.3604e-04 - val_loss: 7.8878e-04\n",
      "Epoch 98/100\n",
      "11/11 [==============================] - 2s 162ms/step - loss: 4.2994e-04 - val_loss: 7.9350e-04\n",
      "Epoch 99/100\n",
      "11/11 [==============================] - 2s 164ms/step - loss: 4.6565e-04 - val_loss: 4.0434e-04\n",
      "Epoch 100/100\n",
      "11/11 [==============================] - 2s 172ms/step - loss: 4.9994e-04 - val_loss: 0.0012\n"
     ]
    },
    {
     "data": {
      "text/plain": [
       "<keras.callbacks.History at 0x2b8ff2f33d0>"
      ]
     },
     "execution_count": 197,
     "metadata": {},
     "output_type": "execute_result"
    }
   ],
   "source": [
    "model.fit(X_train,y_train,validation_data=(X_test,ytest),epochs=100,batch_size=64,verbose=1)"
   ]
  },
  {
   "cell_type": "code",
   "execution_count": 198,
   "id": "9ca94569",
   "metadata": {},
   "outputs": [
    {
     "data": {
      "text/plain": [
       "1234"
      ]
     },
     "execution_count": 198,
     "metadata": {},
     "output_type": "execute_result"
    }
   ],
   "source": [
    "len(df1)"
   ]
  },
  {
   "cell_type": "code",
   "execution_count": 199,
   "id": "86e80790",
   "metadata": {},
   "outputs": [],
   "source": [
    "import tensorflow as tf"
   ]
  },
  {
   "cell_type": "code",
   "execution_count": 200,
   "id": "ad85abec",
   "metadata": {},
   "outputs": [
    {
     "data": {
      "text/plain": [
       "'2.10.0'"
      ]
     },
     "execution_count": 200,
     "metadata": {},
     "output_type": "execute_result"
    }
   ],
   "source": [
    "tf.__version__"
   ]
  },
  {
   "cell_type": "code",
   "execution_count": 201,
   "id": "cd63f531",
   "metadata": {},
   "outputs": [
    {
     "name": "stdout",
     "output_type": "stream",
     "text": [
      "22/22 [==============================] - 2s 41ms/step\n",
      "11/11 [==============================] - 0s 38ms/step\n"
     ]
    }
   ],
   "source": [
    "train_predict=model.predict(X_train)\n",
    "test_predict=model.predict(X_test)"
   ]
  },
  {
   "cell_type": "code",
   "execution_count": 202,
   "id": "03698f44",
   "metadata": {},
   "outputs": [
    {
     "data": {
      "text/plain": [
       "0.02257291277633179"
      ]
     },
     "execution_count": 202,
     "metadata": {},
     "output_type": "execute_result"
    }
   ],
   "source": [
    "import math\n",
    "from sklearn.metrics import mean_squared_error\n",
    "math.sqrt(mean_squared_error(y_train,train_predict))"
   ]
  },
  {
   "cell_type": "code",
   "execution_count": 203,
   "id": "f24e0588",
   "metadata": {},
   "outputs": [
    {
     "data": {
      "text/plain": [
       "0.03516266476617573"
      ]
     },
     "execution_count": 203,
     "metadata": {},
     "output_type": "execute_result"
    }
   ],
   "source": [
    "math.sqrt(mean_squared_error(ytest,test_predict))\n"
   ]
  },
  {
   "cell_type": "code",
   "execution_count": 204,
   "id": "99ebfbb1",
   "metadata": {},
   "outputs": [
    {
     "data": {
      "image/png": "[encoded data removed]",
      "text/plain": [
       "<Figure size 640x480 with 1 Axes>"
      ]
     },
     "metadata": {},
     "output_type": "display_data"
    }
   ],
   "source": [
    "look_back=100\n",
    "trainPredictPlot = np.empty_like(df1)\n",
    "trainPredictPlot[:, :] = np.nan\n",
    "trainPredictPlot[look_back:len(train_predict)+look_back, :] = train_predict\n",
    "testPredictPlot = np.empty_like(df1)\n",
    "testPredictPlot[:, :] = np.nan\n",
    "testPredictPlot[len(train_predict)+(look_back*2)+1:len(df1)-1, :] = test_predict\n",
    "plt.plot(scaler.inverse_transform(df1))\n",
    "plt.plot(trainPredictPlot)\n",
    "plt.plot(testPredictPlot)\n",
    "plt.show()"
   ]
  },
  {
   "cell_type": "code",
   "execution_count": 205,
   "id": "8ec4bad8",
   "metadata": {},
   "outputs": [
    {
     "data": {
      "text/plain": [
       "432"
      ]
     },
     "execution_count": 205,
     "metadata": {},
     "output_type": "execute_result"
    }
   ],
   "source": [
    "len(test_data)"
   ]
  },
  {
   "cell_type": "code",
   "execution_count": 206,
   "id": "4663fa0b",
   "metadata": {},
   "outputs": [
    {
     "data": {
      "text/plain": [
       "(1, 91)"
      ]
     },
     "execution_count": 206,
     "metadata": {},
     "output_type": "execute_result"
    }
   ],
   "source": [
    "x_input=test_data[341:].reshape(1,-1)\n",
    "x_input.shape"
   ]
  },
  {
   "cell_type": "code",
   "execution_count": 207,
   "id": "b469081f",
   "metadata": {},
   "outputs": [],
   "source": [
    "temp_input=list(x_input)\n",
    "temp_input=temp_input[0].tolist()"
   ]
  },
  {
   "cell_type": "code",
   "execution_count": 208,
   "id": "dace4407",
   "metadata": {},
   "outputs": [
    {
     "name": "stdout",
     "output_type": "stream",
     "text": [
      "[0.43917888]\n",
      "92\n",
      "1 day input [0.40364837 0.40794064 0.41384243 0.41178575 0.40731468 0.40552625\n",
      " 0.39899849 0.38826792 0.38165071 0.37646428 0.38299203 0.36627021\n",
      " 0.36492889 0.36492889 0.3561656  0.35661271 0.35571849 0.34668695\n",
      " 0.35178393 0.36287221 0.36770099 0.37092014 0.365376   0.37726904\n",
      " 0.37181435 0.37521236 0.3683269  0.35589735 0.36761154 0.35491368\n",
      " 0.35857999 0.36787979 0.38558528 0.38147186 0.37950458 0.37923632\n",
      " 0.39819368 0.40418493 0.39837253 0.39586874 0.38817847 0.3898775\n",
      " 0.3933649  0.39595814 0.39756772 0.39506393 0.399535   0.40168114\n",
      " 0.3933649  0.39390146 0.40033982 0.41741929 0.4208173  0.42448361\n",
      " 0.41446839 0.42806046 0.42466241 0.42949119 0.43154787 0.43780737\n",
      " 0.43387286 0.43253154 0.42493071 0.43002769 0.4242153  0.42019133\n",
      " 0.41715104 0.41706158 0.41867121 0.405258   0.39157647 0.38951979\n",
      " 0.39372261 0.39908789 0.3933649  0.38916214 0.39086111 0.39390146\n",
      " 0.39390146 0.40561565 0.40999732 0.417777   0.41411069 0.41822411\n",
      " 0.41759814 0.40704642 0.41080208 0.41044443 0.41482605 0.43405166\n",
      " 0.43917888]\n",
      "1 day output [[0.44086757]]\n",
      "2 day input [0.40794064 0.41384243 0.41178575 0.40731468 0.40552625 0.39899849\n",
      " 0.38826792 0.38165071 0.37646428 0.38299203 0.36627021 0.36492889\n",
      " 0.36492889 0.3561656  0.35661271 0.35571849 0.34668695 0.35178393\n",
      " 0.36287221 0.36770099 0.37092014 0.365376   0.37726904 0.37181435\n",
      " 0.37521236 0.3683269  0.35589735 0.36761154 0.35491368 0.35857999\n",
      " 0.36787979 0.38558528 0.38147186 0.37950458 0.37923632 0.39819368\n",
      " 0.40418493 0.39837253 0.39586874 0.38817847 0.3898775  0.3933649\n",
      " 0.39595814 0.39756772 0.39506393 0.399535   0.40168114 0.3933649\n",
      " 0.39390146 0.40033982 0.41741929 0.4208173  0.42448361 0.41446839\n",
      " 0.42806046 0.42466241 0.42949119 0.43154787 0.43780737 0.43387286\n",
      " 0.43253154 0.42493071 0.43002769 0.4242153  0.42019133 0.41715104\n",
      " 0.41706158 0.41867121 0.405258   0.39157647 0.38951979 0.39372261\n",
      " 0.39908789 0.3933649  0.38916214 0.39086111 0.39390146 0.39390146\n",
      " 0.40561565 0.40999732 0.417777   0.41411069 0.41822411 0.41759814\n",
      " 0.40704642 0.41080208 0.41044443 0.41482605 0.43405166 0.43917888\n",
      " 0.44086757]\n",
      "2 day output [[0.44410527]]\n",
      "3 day input [0.41384243 0.41178575 0.40731468 0.40552625 0.39899849 0.38826792\n",
      " 0.38165071 0.37646428 0.38299203 0.36627021 0.36492889 0.36492889\n",
      " 0.3561656  0.35661271 0.35571849 0.34668695 0.35178393 0.36287221\n",
      " 0.36770099 0.37092014 0.365376   0.37726904 0.37181435 0.37521236\n",
      " 0.3683269  0.35589735 0.36761154 0.35491368 0.35857999 0.36787979\n",
      " 0.38558528 0.38147186 0.37950458 0.37923632 0.39819368 0.40418493\n",
      " 0.39837253 0.39586874 0.38817847 0.3898775  0.3933649  0.39595814\n",
      " 0.39756772 0.39506393 0.399535   0.40168114 0.3933649  0.39390146\n",
      " 0.40033982 0.41741929 0.4208173  0.42448361 0.41446839 0.42806046\n",
      " 0.42466241 0.42949119 0.43154787 0.43780737 0.43387286 0.43253154\n",
      " 0.42493071 0.43002769 0.4242153  0.42019133 0.41715104 0.41706158\n",
      " 0.41867121 0.405258   0.39157647 0.38951979 0.39372261 0.39908789\n",
      " 0.3933649  0.38916214 0.39086111 0.39390146 0.39390146 0.40561565\n",
      " 0.40999732 0.417777   0.41411069 0.41822411 0.41759814 0.40704642\n",
      " 0.41080208 0.41044443 0.41482605 0.43405166 0.43917888 0.44086757\n",
      " 0.44410527]\n",
      "3 day output [[0.44850627]]\n",
      "4 day input [0.41178575 0.40731468 0.40552625 0.39899849 0.38826792 0.38165071\n",
      " 0.37646428 0.38299203 0.36627021 0.36492889 0.36492889 0.3561656\n",
      " 0.35661271 0.35571849 0.34668695 0.35178393 0.36287221 0.36770099\n",
      " 0.37092014 0.365376   0.37726904 0.37181435 0.37521236 0.3683269\n",
      " 0.35589735 0.36761154 0.35491368 0.35857999 0.36787979 0.38558528\n",
      " 0.38147186 0.37950458 0.37923632 0.39819368 0.40418493 0.39837253\n",
      " 0.39586874 0.38817847 0.3898775  0.3933649  0.39595814 0.39756772\n",
      " 0.39506393 0.399535   0.40168114 0.3933649  0.39390146 0.40033982\n",
      " 0.41741929 0.4208173  0.42448361 0.41446839 0.42806046 0.42466241\n",
      " 0.42949119 0.43154787 0.43780737 0.43387286 0.43253154 0.42493071\n",
      " 0.43002769 0.4242153  0.42019133 0.41715104 0.41706158 0.41867121\n",
      " 0.405258   0.39157647 0.38951979 0.39372261 0.39908789 0.3933649\n",
      " 0.38916214 0.39086111 0.39390146 0.39390146 0.40561565 0.40999732\n",
      " 0.417777   0.41411069 0.41822411 0.41759814 0.40704642 0.41080208\n",
      " 0.41044443 0.41482605 0.43405166 0.43917888 0.44086757 0.44410527\n",
      " 0.44850627]\n",
      "4 day output [[0.45365775]]\n",
      "5 day input [0.40731468 0.40552625 0.39899849 0.38826792 0.38165071 0.37646428\n",
      " 0.38299203 0.36627021 0.36492889 0.36492889 0.3561656  0.35661271\n",
      " 0.35571849 0.34668695 0.35178393 0.36287221 0.36770099 0.37092014\n",
      " 0.365376   0.37726904 0.37181435 0.37521236 0.3683269  0.35589735\n",
      " 0.36761154 0.35491368 0.35857999 0.36787979 0.38558528 0.38147186\n",
      " 0.37950458 0.37923632 0.39819368 0.40418493 0.39837253 0.39586874\n",
      " 0.38817847 0.3898775  0.3933649  0.39595814 0.39756772 0.39506393\n",
      " 0.399535   0.40168114 0.3933649  0.39390146 0.40033982 0.41741929\n",
      " 0.4208173  0.42448361 0.41446839 0.42806046 0.42466241 0.42949119\n",
      " 0.43154787 0.43780737 0.43387286 0.43253154 0.42493071 0.43002769\n",
      " 0.4242153  0.42019133 0.41715104 0.41706158 0.41867121 0.405258\n",
      " 0.39157647 0.38951979 0.39372261 0.39908789 0.3933649  0.38916214\n",
      " 0.39086111 0.39390146 0.39390146 0.40561565 0.40999732 0.417777\n",
      " 0.41411069 0.41822411 0.41759814 0.40704642 0.41080208 0.41044443\n",
      " 0.41482605 0.43405166 0.43917888 0.44086757 0.44410527 0.44850627\n",
      " 0.45365775]\n",
      "5 day output [[0.45923176]]\n",
      "6 day input [0.40552625 0.39899849 0.38826792 0.38165071 0.37646428 0.38299203\n",
      " 0.36627021 0.36492889 0.36492889 0.3561656  0.35661271 0.35571849\n",
      " 0.34668695 0.35178393 0.36287221 0.36770099 0.37092014 0.365376\n",
      " 0.37726904 0.37181435 0.37521236 0.3683269  0.35589735 0.36761154\n",
      " 0.35491368 0.35857999 0.36787979 0.38558528 0.38147186 0.37950458\n",
      " 0.37923632 0.39819368 0.40418493 0.39837253 0.39586874 0.38817847\n",
      " 0.3898775  0.3933649  0.39595814 0.39756772 0.39506393 0.399535\n",
      " 0.40168114 0.3933649  0.39390146 0.40033982 0.41741929 0.4208173\n",
      " 0.42448361 0.41446839 0.42806046 0.42466241 0.42949119 0.43154787\n",
      " 0.43780737 0.43387286 0.43253154 0.42493071 0.43002769 0.4242153\n",
      " 0.42019133 0.41715104 0.41706158 0.41867121 0.405258   0.39157647\n",
      " 0.38951979 0.39372261 0.39908789 0.3933649  0.38916214 0.39086111\n",
      " 0.39390146 0.39390146 0.40561565 0.40999732 0.417777   0.41411069\n",
      " 0.41822411 0.41759814 0.40704642 0.41080208 0.41044443 0.41482605\n",
      " 0.43405166 0.43917888 0.44086757 0.44410527 0.44850627 0.45365775\n",
      " 0.45923176]\n",
      "6 day output [[0.46501076]]\n",
      "7 day input [0.39899849 0.38826792 0.38165071 0.37646428 0.38299203 0.36627021\n",
      " 0.36492889 0.36492889 0.3561656  0.35661271 0.35571849 0.34668695\n",
      " 0.35178393 0.36287221 0.36770099 0.37092014 0.365376   0.37726904\n",
      " 0.37181435 0.37521236 0.3683269  0.35589735 0.36761154 0.35491368\n",
      " 0.35857999 0.36787979 0.38558528 0.38147186 0.37950458 0.37923632\n",
      " 0.39819368 0.40418493 0.39837253 0.39586874 0.38817847 0.3898775\n",
      " 0.3933649  0.39595814 0.39756772 0.39506393 0.399535   0.40168114\n",
      " 0.3933649  0.39390146 0.40033982 0.41741929 0.4208173  0.42448361\n",
      " 0.41446839 0.42806046 0.42466241 0.42949119 0.43154787 0.43780737\n",
      " 0.43387286 0.43253154 0.42493071 0.43002769 0.4242153  0.42019133\n",
      " 0.41715104 0.41706158 0.41867121 0.405258   0.39157647 0.38951979\n",
      " 0.39372261 0.39908789 0.3933649  0.38916214 0.39086111 0.39390146\n",
      " 0.39390146 0.40561565 0.40999732 0.417777   0.41411069 0.41822411\n",
      " 0.41759814 0.40704642 0.41080208 0.41044443 0.41482605 0.43405166\n",
      " 0.43917888 0.44086757 0.44410527 0.44850627 0.45365775 0.45923176\n",
      " 0.46501076]\n",
      "7 day output [[0.47087035]]\n",
      "8 day input [0.38826792 0.38165071 0.37646428 0.38299203 0.36627021 0.36492889\n",
      " 0.36492889 0.3561656  0.35661271 0.35571849 0.34668695 0.35178393\n",
      " 0.36287221 0.36770099 0.37092014 0.365376   0.37726904 0.37181435\n",
      " 0.37521236 0.3683269  0.35589735 0.36761154 0.35491368 0.35857999\n",
      " 0.36787979 0.38558528 0.38147186 0.37950458 0.37923632 0.39819368\n",
      " 0.40418493 0.39837253 0.39586874 0.38817847 0.3898775  0.3933649\n",
      " 0.39595814 0.39756772 0.39506393 0.399535   0.40168114 0.3933649\n",
      " 0.39390146 0.40033982 0.41741929 0.4208173  0.42448361 0.41446839\n",
      " 0.42806046 0.42466241 0.42949119 0.43154787 0.43780737 0.43387286\n",
      " 0.43253154 0.42493071 0.43002769 0.4242153  0.42019133 0.41715104\n",
      " 0.41706158 0.41867121 0.405258   0.39157647 0.38951979 0.39372261\n",
      " 0.39908789 0.3933649  0.38916214 0.39086111 0.39390146 0.39390146\n",
      " 0.40561565 0.40999732 0.417777   0.41411069 0.41822411 0.41759814\n",
      " 0.40704642 0.41080208 0.41044443 0.41482605 0.43405166 0.43917888\n",
      " 0.44086757 0.44410527 0.44850627 0.45365775 0.45923176 0.46501076\n",
      " 0.47087035]\n"
     ]
    },
    {
     "name": "stdout",
     "output_type": "stream",
     "text": [
      "8 day output [[0.4767493]]\n",
      "9 day input [0.38165071 0.37646428 0.38299203 0.36627021 0.36492889 0.36492889\n",
      " 0.3561656  0.35661271 0.35571849 0.34668695 0.35178393 0.36287221\n",
      " 0.36770099 0.37092014 0.365376   0.37726904 0.37181435 0.37521236\n",
      " 0.3683269  0.35589735 0.36761154 0.35491368 0.35857999 0.36787979\n",
      " 0.38558528 0.38147186 0.37950458 0.37923632 0.39819368 0.40418493\n",
      " 0.39837253 0.39586874 0.38817847 0.3898775  0.3933649  0.39595814\n",
      " 0.39756772 0.39506393 0.399535   0.40168114 0.3933649  0.39390146\n",
      " 0.40033982 0.41741929 0.4208173  0.42448361 0.41446839 0.42806046\n",
      " 0.42466241 0.42949119 0.43154787 0.43780737 0.43387286 0.43253154\n",
      " 0.42493071 0.43002769 0.4242153  0.42019133 0.41715104 0.41706158\n",
      " 0.41867121 0.405258   0.39157647 0.38951979 0.39372261 0.39908789\n",
      " 0.3933649  0.38916214 0.39086111 0.39390146 0.39390146 0.40561565\n",
      " 0.40999732 0.417777   0.41411069 0.41822411 0.41759814 0.40704642\n",
      " 0.41080208 0.41044443 0.41482605 0.43405166 0.43917888 0.44086757\n",
      " 0.44410527 0.44850627 0.45365775 0.45923176 0.46501076 0.47087035\n",
      " 0.4767493 ]\n",
      "9 day output [[0.48262298]]\n",
      "10 day input [0.37646428 0.38299203 0.36627021 0.36492889 0.36492889 0.3561656\n",
      " 0.35661271 0.35571849 0.34668695 0.35178393 0.36287221 0.36770099\n",
      " 0.37092014 0.365376   0.37726904 0.37181435 0.37521236 0.3683269\n",
      " 0.35589735 0.36761154 0.35491368 0.35857999 0.36787979 0.38558528\n",
      " 0.38147186 0.37950458 0.37923632 0.39819368 0.40418493 0.39837253\n",
      " 0.39586874 0.38817847 0.3898775  0.3933649  0.39595814 0.39756772\n",
      " 0.39506393 0.399535   0.40168114 0.3933649  0.39390146 0.40033982\n",
      " 0.41741929 0.4208173  0.42448361 0.41446839 0.42806046 0.42466241\n",
      " 0.42949119 0.43154787 0.43780737 0.43387286 0.43253154 0.42493071\n",
      " 0.43002769 0.4242153  0.42019133 0.41715104 0.41706158 0.41867121\n",
      " 0.405258   0.39157647 0.38951979 0.39372261 0.39908789 0.3933649\n",
      " 0.38916214 0.39086111 0.39390146 0.39390146 0.40561565 0.40999732\n",
      " 0.417777   0.41411069 0.41822411 0.41759814 0.40704642 0.41080208\n",
      " 0.41044443 0.41482605 0.43405166 0.43917888 0.44086757 0.44410527\n",
      " 0.44850627 0.45365775 0.45923176 0.46501076 0.47087035 0.4767493\n",
      " 0.48262298]\n",
      "10 day output [[0.48848364]]\n",
      "11 day input [0.38299203 0.36627021 0.36492889 0.36492889 0.3561656  0.35661271\n",
      " 0.35571849 0.34668695 0.35178393 0.36287221 0.36770099 0.37092014\n",
      " 0.365376   0.37726904 0.37181435 0.37521236 0.3683269  0.35589735\n",
      " 0.36761154 0.35491368 0.35857999 0.36787979 0.38558528 0.38147186\n",
      " 0.37950458 0.37923632 0.39819368 0.40418493 0.39837253 0.39586874\n",
      " 0.38817847 0.3898775  0.3933649  0.39595814 0.39756772 0.39506393\n",
      " 0.399535   0.40168114 0.3933649  0.39390146 0.40033982 0.41741929\n",
      " 0.4208173  0.42448361 0.41446839 0.42806046 0.42466241 0.42949119\n",
      " 0.43154787 0.43780737 0.43387286 0.43253154 0.42493071 0.43002769\n",
      " 0.4242153  0.42019133 0.41715104 0.41706158 0.41867121 0.405258\n",
      " 0.39157647 0.38951979 0.39372261 0.39908789 0.3933649  0.38916214\n",
      " 0.39086111 0.39390146 0.39390146 0.40561565 0.40999732 0.417777\n",
      " 0.41411069 0.41822411 0.41759814 0.40704642 0.41080208 0.41044443\n",
      " 0.41482605 0.43405166 0.43917888 0.44086757 0.44410527 0.44850627\n",
      " 0.45365775 0.45923176 0.46501076 0.47087035 0.4767493  0.48262298\n",
      " 0.48848364]\n",
      "11 day output [[0.49432915]]\n",
      "12 day input [0.36627021 0.36492889 0.36492889 0.3561656  0.35661271 0.35571849\n",
      " 0.34668695 0.35178393 0.36287221 0.36770099 0.37092014 0.365376\n",
      " 0.37726904 0.37181435 0.37521236 0.3683269  0.35589735 0.36761154\n",
      " 0.35491368 0.35857999 0.36787979 0.38558528 0.38147186 0.37950458\n",
      " 0.37923632 0.39819368 0.40418493 0.39837253 0.39586874 0.38817847\n",
      " 0.3898775  0.3933649  0.39595814 0.39756772 0.39506393 0.399535\n",
      " 0.40168114 0.3933649  0.39390146 0.40033982 0.41741929 0.4208173\n",
      " 0.42448361 0.41446839 0.42806046 0.42466241 0.42949119 0.43154787\n",
      " 0.43780737 0.43387286 0.43253154 0.42493071 0.43002769 0.4242153\n",
      " 0.42019133 0.41715104 0.41706158 0.41867121 0.405258   0.39157647\n",
      " 0.38951979 0.39372261 0.39908789 0.3933649  0.38916214 0.39086111\n",
      " 0.39390146 0.39390146 0.40561565 0.40999732 0.417777   0.41411069\n",
      " 0.41822411 0.41759814 0.40704642 0.41080208 0.41044443 0.41482605\n",
      " 0.43405166 0.43917888 0.44086757 0.44410527 0.44850627 0.45365775\n",
      " 0.45923176 0.46501076 0.47087035 0.4767493  0.48262298 0.48848364\n",
      " 0.49432915]\n",
      "12 day output [[0.5001586]]\n",
      "13 day input [0.36492889 0.36492889 0.3561656  0.35661271 0.35571849 0.34668695\n",
      " 0.35178393 0.36287221 0.36770099 0.37092014 0.365376   0.37726904\n",
      " 0.37181435 0.37521236 0.3683269  0.35589735 0.36761154 0.35491368\n",
      " 0.35857999 0.36787979 0.38558528 0.38147186 0.37950458 0.37923632\n",
      " 0.39819368 0.40418493 0.39837253 0.39586874 0.38817847 0.3898775\n",
      " 0.3933649  0.39595814 0.39756772 0.39506393 0.399535   0.40168114\n",
      " 0.3933649  0.39390146 0.40033982 0.41741929 0.4208173  0.42448361\n",
      " 0.41446839 0.42806046 0.42466241 0.42949119 0.43154787 0.43780737\n",
      " 0.43387286 0.43253154 0.42493071 0.43002769 0.4242153  0.42019133\n",
      " 0.41715104 0.41706158 0.41867121 0.405258   0.39157647 0.38951979\n",
      " 0.39372261 0.39908789 0.3933649  0.38916214 0.39086111 0.39390146\n",
      " 0.39390146 0.40561565 0.40999732 0.417777   0.41411069 0.41822411\n",
      " 0.41759814 0.40704642 0.41080208 0.41044443 0.41482605 0.43405166\n",
      " 0.43917888 0.44086757 0.44410527 0.44850627 0.45365775 0.45923176\n",
      " 0.46501076 0.47087035 0.4767493  0.48262298 0.48848364 0.49432915\n",
      " 0.50015861]\n",
      "13 day output [[0.50597054]]\n",
      "14 day input [0.36492889 0.3561656  0.35661271 0.35571849 0.34668695 0.35178393\n",
      " 0.36287221 0.36770099 0.37092014 0.365376   0.37726904 0.37181435\n",
      " 0.37521236 0.3683269  0.35589735 0.36761154 0.35491368 0.35857999\n",
      " 0.36787979 0.38558528 0.38147186 0.37950458 0.37923632 0.39819368\n",
      " 0.40418493 0.39837253 0.39586874 0.38817847 0.3898775  0.3933649\n",
      " 0.39595814 0.39756772 0.39506393 0.399535   0.40168114 0.3933649\n",
      " 0.39390146 0.40033982 0.41741929 0.4208173  0.42448361 0.41446839\n",
      " 0.42806046 0.42466241 0.42949119 0.43154787 0.43780737 0.43387286\n",
      " 0.43253154 0.42493071 0.43002769 0.4242153  0.42019133 0.41715104\n",
      " 0.41706158 0.41867121 0.405258   0.39157647 0.38951979 0.39372261\n",
      " 0.39908789 0.3933649  0.38916214 0.39086111 0.39390146 0.39390146\n",
      " 0.40561565 0.40999732 0.417777   0.41411069 0.41822411 0.41759814\n",
      " 0.40704642 0.41080208 0.41044443 0.41482605 0.43405166 0.43917888\n",
      " 0.44086757 0.44410527 0.44850627 0.45365775 0.45923176 0.46501076\n",
      " 0.47087035 0.4767493  0.48262298 0.48848364 0.49432915 0.50015861\n",
      " 0.50597054]\n",
      "14 day output [[0.5117632]]\n",
      "15 day input [0.3561656  0.35661271 0.35571849 0.34668695 0.35178393 0.36287221\n",
      " 0.36770099 0.37092014 0.365376   0.37726904 0.37181435 0.37521236\n",
      " 0.3683269  0.35589735 0.36761154 0.35491368 0.35857999 0.36787979\n",
      " 0.38558528 0.38147186 0.37950458 0.37923632 0.39819368 0.40418493\n",
      " 0.39837253 0.39586874 0.38817847 0.3898775  0.3933649  0.39595814\n",
      " 0.39756772 0.39506393 0.399535   0.40168114 0.3933649  0.39390146\n",
      " 0.40033982 0.41741929 0.4208173  0.42448361 0.41446839 0.42806046\n",
      " 0.42466241 0.42949119 0.43154787 0.43780737 0.43387286 0.43253154\n",
      " 0.42493071 0.43002769 0.4242153  0.42019133 0.41715104 0.41706158\n",
      " 0.41867121 0.405258   0.39157647 0.38951979 0.39372261 0.39908789\n",
      " 0.3933649  0.38916214 0.39086111 0.39390146 0.39390146 0.40561565\n",
      " 0.40999732 0.417777   0.41411069 0.41822411 0.41759814 0.40704642\n",
      " 0.41080208 0.41044443 0.41482605 0.43405166 0.43917888 0.44086757\n",
      " 0.44410527 0.44850627 0.45365775 0.45923176 0.46501076 0.47087035\n",
      " 0.4767493  0.48262298 0.48848364 0.49432915 0.50015861 0.50597054\n",
      " 0.51176322]\n",
      "15 day output [[0.5175358]]\n",
      "16 day input [0.35661271 0.35571849 0.34668695 0.35178393 0.36287221 0.36770099\n",
      " 0.37092014 0.365376   0.37726904 0.37181435 0.37521236 0.3683269\n",
      " 0.35589735 0.36761154 0.35491368 0.35857999 0.36787979 0.38558528\n",
      " 0.38147186 0.37950458 0.37923632 0.39819368 0.40418493 0.39837253\n",
      " 0.39586874 0.38817847 0.3898775  0.3933649  0.39595814 0.39756772\n",
      " 0.39506393 0.399535   0.40168114 0.3933649  0.39390146 0.40033982\n",
      " 0.41741929 0.4208173  0.42448361 0.41446839 0.42806046 0.42466241\n",
      " 0.42949119 0.43154787 0.43780737 0.43387286 0.43253154 0.42493071\n",
      " 0.43002769 0.4242153  0.42019133 0.41715104 0.41706158 0.41867121\n",
      " 0.405258   0.39157647 0.38951979 0.39372261 0.39908789 0.3933649\n",
      " 0.38916214 0.39086111 0.39390146 0.39390146 0.40561565 0.40999732\n",
      " 0.417777   0.41411069 0.41822411 0.41759814 0.40704642 0.41080208\n",
      " 0.41044443 0.41482605 0.43405166 0.43917888 0.44086757 0.44410527\n",
      " 0.44850627 0.45365775 0.45923176 0.46501076 0.47087035 0.4767493\n",
      " 0.48262298 0.48848364 0.49432915 0.50015861 0.50597054 0.51176322\n",
      " 0.51753581]\n"
     ]
    },
    {
     "name": "stdout",
     "output_type": "stream",
     "text": [
      "16 day output [[0.5232891]]\n",
      "17 day input [0.35571849 0.34668695 0.35178393 0.36287221 0.36770099 0.37092014\n",
      " 0.365376   0.37726904 0.37181435 0.37521236 0.3683269  0.35589735\n",
      " 0.36761154 0.35491368 0.35857999 0.36787979 0.38558528 0.38147186\n",
      " 0.37950458 0.37923632 0.39819368 0.40418493 0.39837253 0.39586874\n",
      " 0.38817847 0.3898775  0.3933649  0.39595814 0.39756772 0.39506393\n",
      " 0.399535   0.40168114 0.3933649  0.39390146 0.40033982 0.41741929\n",
      " 0.4208173  0.42448361 0.41446839 0.42806046 0.42466241 0.42949119\n",
      " 0.43154787 0.43780737 0.43387286 0.43253154 0.42493071 0.43002769\n",
      " 0.4242153  0.42019133 0.41715104 0.41706158 0.41867121 0.405258\n",
      " 0.39157647 0.38951979 0.39372261 0.39908789 0.3933649  0.38916214\n",
      " 0.39086111 0.39390146 0.39390146 0.40561565 0.40999732 0.417777\n",
      " 0.41411069 0.41822411 0.41759814 0.40704642 0.41080208 0.41044443\n",
      " 0.41482605 0.43405166 0.43917888 0.44086757 0.44410527 0.44850627\n",
      " 0.45365775 0.45923176 0.46501076 0.47087035 0.4767493  0.48262298\n",
      " 0.48848364 0.49432915 0.50015861 0.50597054 0.51176322 0.51753581\n",
      " 0.52328908]\n",
      "17 day output [[0.5290254]]\n",
      "18 day input [0.34668695 0.35178393 0.36287221 0.36770099 0.37092014 0.365376\n",
      " 0.37726904 0.37181435 0.37521236 0.3683269  0.35589735 0.36761154\n",
      " 0.35491368 0.35857999 0.36787979 0.38558528 0.38147186 0.37950458\n",
      " 0.37923632 0.39819368 0.40418493 0.39837253 0.39586874 0.38817847\n",
      " 0.3898775  0.3933649  0.39595814 0.39756772 0.39506393 0.399535\n",
      " 0.40168114 0.3933649  0.39390146 0.40033982 0.41741929 0.4208173\n",
      " 0.42448361 0.41446839 0.42806046 0.42466241 0.42949119 0.43154787\n",
      " 0.43780737 0.43387286 0.43253154 0.42493071 0.43002769 0.4242153\n",
      " 0.42019133 0.41715104 0.41706158 0.41867121 0.405258   0.39157647\n",
      " 0.38951979 0.39372261 0.39908789 0.3933649  0.38916214 0.39086111\n",
      " 0.39390146 0.39390146 0.40561565 0.40999732 0.417777   0.41411069\n",
      " 0.41822411 0.41759814 0.40704642 0.41080208 0.41044443 0.41482605\n",
      " 0.43405166 0.43917888 0.44086757 0.44410527 0.44850627 0.45365775\n",
      " 0.45923176 0.46501076 0.47087035 0.4767493  0.48262298 0.48848364\n",
      " 0.49432915 0.50015861 0.50597054 0.51176322 0.51753581 0.52328908\n",
      " 0.52902538]\n",
      "18 day output [[0.5347495]]\n",
      "19 day input [0.35178393 0.36287221 0.36770099 0.37092014 0.365376   0.37726904\n",
      " 0.37181435 0.37521236 0.3683269  0.35589735 0.36761154 0.35491368\n",
      " 0.35857999 0.36787979 0.38558528 0.38147186 0.37950458 0.37923632\n",
      " 0.39819368 0.40418493 0.39837253 0.39586874 0.38817847 0.3898775\n",
      " 0.3933649  0.39595814 0.39756772 0.39506393 0.399535   0.40168114\n",
      " 0.3933649  0.39390146 0.40033982 0.41741929 0.4208173  0.42448361\n",
      " 0.41446839 0.42806046 0.42466241 0.42949119 0.43154787 0.43780737\n",
      " 0.43387286 0.43253154 0.42493071 0.43002769 0.4242153  0.42019133\n",
      " 0.41715104 0.41706158 0.41867121 0.405258   0.39157647 0.38951979\n",
      " 0.39372261 0.39908789 0.3933649  0.38916214 0.39086111 0.39390146\n",
      " 0.39390146 0.40561565 0.40999732 0.417777   0.41411069 0.41822411\n",
      " 0.41759814 0.40704642 0.41080208 0.41044443 0.41482605 0.43405166\n",
      " 0.43917888 0.44086757 0.44410527 0.44850627 0.45365775 0.45923176\n",
      " 0.46501076 0.47087035 0.4767493  0.48262298 0.48848364 0.49432915\n",
      " 0.50015861 0.50597054 0.51176322 0.51753581 0.52328908 0.52902538\n",
      " 0.53474951]\n",
      "19 day output [[0.5404676]]\n",
      "20 day input [0.36287221 0.36770099 0.37092014 0.365376   0.37726904 0.37181435\n",
      " 0.37521236 0.3683269  0.35589735 0.36761154 0.35491368 0.35857999\n",
      " 0.36787979 0.38558528 0.38147186 0.37950458 0.37923632 0.39819368\n",
      " 0.40418493 0.39837253 0.39586874 0.38817847 0.3898775  0.3933649\n",
      " 0.39595814 0.39756772 0.39506393 0.399535   0.40168114 0.3933649\n",
      " 0.39390146 0.40033982 0.41741929 0.4208173  0.42448361 0.41446839\n",
      " 0.42806046 0.42466241 0.42949119 0.43154787 0.43780737 0.43387286\n",
      " 0.43253154 0.42493071 0.43002769 0.4242153  0.42019133 0.41715104\n",
      " 0.41706158 0.41867121 0.405258   0.39157647 0.38951979 0.39372261\n",
      " 0.39908789 0.3933649  0.38916214 0.39086111 0.39390146 0.39390146\n",
      " 0.40561565 0.40999732 0.417777   0.41411069 0.41822411 0.41759814\n",
      " 0.40704642 0.41080208 0.41044443 0.41482605 0.43405166 0.43917888\n",
      " 0.44086757 0.44410527 0.44850627 0.45365775 0.45923176 0.46501076\n",
      " 0.47087035 0.4767493  0.48262298 0.48848364 0.49432915 0.50015861\n",
      " 0.50597054 0.51176322 0.51753581 0.52328908 0.52902538 0.53474951\n",
      " 0.54046762]\n",
      "20 day output [[0.54618764]]\n",
      "21 day input [0.36770099 0.37092014 0.365376   0.37726904 0.37181435 0.37521236\n",
      " 0.3683269  0.35589735 0.36761154 0.35491368 0.35857999 0.36787979\n",
      " 0.38558528 0.38147186 0.37950458 0.37923632 0.39819368 0.40418493\n",
      " 0.39837253 0.39586874 0.38817847 0.3898775  0.3933649  0.39595814\n",
      " 0.39756772 0.39506393 0.399535   0.40168114 0.3933649  0.39390146\n",
      " 0.40033982 0.41741929 0.4208173  0.42448361 0.41446839 0.42806046\n",
      " 0.42466241 0.42949119 0.43154787 0.43780737 0.43387286 0.43253154\n",
      " 0.42493071 0.43002769 0.4242153  0.42019133 0.41715104 0.41706158\n",
      " 0.41867121 0.405258   0.39157647 0.38951979 0.39372261 0.39908789\n",
      " 0.3933649  0.38916214 0.39086111 0.39390146 0.39390146 0.40561565\n",
      " 0.40999732 0.417777   0.41411069 0.41822411 0.41759814 0.40704642\n",
      " 0.41080208 0.41044443 0.41482605 0.43405166 0.43917888 0.44086757\n",
      " 0.44410527 0.44850627 0.45365775 0.45923176 0.46501076 0.47087035\n",
      " 0.4767493  0.48262298 0.48848364 0.49432915 0.50015861 0.50597054\n",
      " 0.51176322 0.51753581 0.52328908 0.52902538 0.53474951 0.54046762\n",
      " 0.54618764]\n",
      "21 day output [[0.551918]]\n",
      "22 day input [0.37092014 0.365376   0.37726904 0.37181435 0.37521236 0.3683269\n",
      " 0.35589735 0.36761154 0.35491368 0.35857999 0.36787979 0.38558528\n",
      " 0.38147186 0.37950458 0.37923632 0.39819368 0.40418493 0.39837253\n",
      " 0.39586874 0.38817847 0.3898775  0.3933649  0.39595814 0.39756772\n",
      " 0.39506393 0.399535   0.40168114 0.3933649  0.39390146 0.40033982\n",
      " 0.41741929 0.4208173  0.42448361 0.41446839 0.42806046 0.42466241\n",
      " 0.42949119 0.43154787 0.43780737 0.43387286 0.43253154 0.42493071\n",
      " 0.43002769 0.4242153  0.42019133 0.41715104 0.41706158 0.41867121\n",
      " 0.405258   0.39157647 0.38951979 0.39372261 0.39908789 0.3933649\n",
      " 0.38916214 0.39086111 0.39390146 0.39390146 0.40561565 0.40999732\n",
      " 0.417777   0.41411069 0.41822411 0.41759814 0.40704642 0.41080208\n",
      " 0.41044443 0.41482605 0.43405166 0.43917888 0.44086757 0.44410527\n",
      " 0.44850627 0.45365775 0.45923176 0.46501076 0.47087035 0.4767493\n",
      " 0.48262298 0.48848364 0.49432915 0.50015861 0.50597054 0.51176322\n",
      " 0.51753581 0.52328908 0.52902538 0.53474951 0.54046762 0.54618764\n",
      " 0.55191803]\n",
      "22 day output [[0.55766875]]\n",
      "23 day input [0.365376   0.37726904 0.37181435 0.37521236 0.3683269  0.35589735\n",
      " 0.36761154 0.35491368 0.35857999 0.36787979 0.38558528 0.38147186\n",
      " 0.37950458 0.37923632 0.39819368 0.40418493 0.39837253 0.39586874\n",
      " 0.38817847 0.3898775  0.3933649  0.39595814 0.39756772 0.39506393\n",
      " 0.399535   0.40168114 0.3933649  0.39390146 0.40033982 0.41741929\n",
      " 0.4208173  0.42448361 0.41446839 0.42806046 0.42466241 0.42949119\n",
      " 0.43154787 0.43780737 0.43387286 0.43253154 0.42493071 0.43002769\n",
      " 0.4242153  0.42019133 0.41715104 0.41706158 0.41867121 0.405258\n",
      " 0.39157647 0.38951979 0.39372261 0.39908789 0.3933649  0.38916214\n",
      " 0.39086111 0.39390146 0.39390146 0.40561565 0.40999732 0.417777\n",
      " 0.41411069 0.41822411 0.41759814 0.40704642 0.41080208 0.41044443\n",
      " 0.41482605 0.43405166 0.43917888 0.44086757 0.44410527 0.44850627\n",
      " 0.45365775 0.45923176 0.46501076 0.47087035 0.4767493  0.48262298\n",
      " 0.48848364 0.49432915 0.50015861 0.50597054 0.51176322 0.51753581\n",
      " 0.52328908 0.52902538 0.53474951 0.54046762 0.54618764 0.55191803\n",
      " 0.55766875]\n",
      "23 day output [[0.5634494]]\n",
      "24 day input [0.37726904 0.37181435 0.37521236 0.3683269  0.35589735 0.36761154\n",
      " 0.35491368 0.35857999 0.36787979 0.38558528 0.38147186 0.37950458\n",
      " 0.37923632 0.39819368 0.40418493 0.39837253 0.39586874 0.38817847\n",
      " 0.3898775  0.3933649  0.39595814 0.39756772 0.39506393 0.399535\n",
      " 0.40168114 0.3933649  0.39390146 0.40033982 0.41741929 0.4208173\n",
      " 0.42448361 0.41446839 0.42806046 0.42466241 0.42949119 0.43154787\n",
      " 0.43780737 0.43387286 0.43253154 0.42493071 0.43002769 0.4242153\n",
      " 0.42019133 0.41715104 0.41706158 0.41867121 0.405258   0.39157647\n",
      " 0.38951979 0.39372261 0.39908789 0.3933649  0.38916214 0.39086111\n",
      " 0.39390146 0.39390146 0.40561565 0.40999732 0.417777   0.41411069\n",
      " 0.41822411 0.41759814 0.40704642 0.41080208 0.41044443 0.41482605\n",
      " 0.43405166 0.43917888 0.44086757 0.44410527 0.44850627 0.45365775\n",
      " 0.45923176 0.46501076 0.47087035 0.4767493  0.48262298 0.48848364\n",
      " 0.49432915 0.50015861 0.50597054 0.51176322 0.51753581 0.52328908\n",
      " 0.52902538 0.53474951 0.54046762 0.54618764 0.55191803 0.55766875\n",
      " 0.56344938]\n"
     ]
    },
    {
     "name": "stdout",
     "output_type": "stream",
     "text": [
      "24 day output [[0.5692701]]\n",
      "25 day input [0.37181435 0.37521236 0.3683269  0.35589735 0.36761154 0.35491368\n",
      " 0.35857999 0.36787979 0.38558528 0.38147186 0.37950458 0.37923632\n",
      " 0.39819368 0.40418493 0.39837253 0.39586874 0.38817847 0.3898775\n",
      " 0.3933649  0.39595814 0.39756772 0.39506393 0.399535   0.40168114\n",
      " 0.3933649  0.39390146 0.40033982 0.41741929 0.4208173  0.42448361\n",
      " 0.41446839 0.42806046 0.42466241 0.42949119 0.43154787 0.43780737\n",
      " 0.43387286 0.43253154 0.42493071 0.43002769 0.4242153  0.42019133\n",
      " 0.41715104 0.41706158 0.41867121 0.405258   0.39157647 0.38951979\n",
      " 0.39372261 0.39908789 0.3933649  0.38916214 0.39086111 0.39390146\n",
      " 0.39390146 0.40561565 0.40999732 0.417777   0.41411069 0.41822411\n",
      " 0.41759814 0.40704642 0.41080208 0.41044443 0.41482605 0.43405166\n",
      " 0.43917888 0.44086757 0.44410527 0.44850627 0.45365775 0.45923176\n",
      " 0.46501076 0.47087035 0.4767493  0.48262298 0.48848364 0.49432915\n",
      " 0.50015861 0.50597054 0.51176322 0.51753581 0.52328908 0.52902538\n",
      " 0.53474951 0.54046762 0.54618764 0.55191803 0.55766875 0.56344938\n",
      " 0.56927007]\n",
      "25 day output [[0.5751404]]\n",
      "26 day input [0.37521236 0.3683269  0.35589735 0.36761154 0.35491368 0.35857999\n",
      " 0.36787979 0.38558528 0.38147186 0.37950458 0.37923632 0.39819368\n",
      " 0.40418493 0.39837253 0.39586874 0.38817847 0.3898775  0.3933649\n",
      " 0.39595814 0.39756772 0.39506393 0.399535   0.40168114 0.3933649\n",
      " 0.39390146 0.40033982 0.41741929 0.4208173  0.42448361 0.41446839\n",
      " 0.42806046 0.42466241 0.42949119 0.43154787 0.43780737 0.43387286\n",
      " 0.43253154 0.42493071 0.43002769 0.4242153  0.42019133 0.41715104\n",
      " 0.41706158 0.41867121 0.405258   0.39157647 0.38951979 0.39372261\n",
      " 0.39908789 0.3933649  0.38916214 0.39086111 0.39390146 0.39390146\n",
      " 0.40561565 0.40999732 0.417777   0.41411069 0.41822411 0.41759814\n",
      " 0.40704642 0.41080208 0.41044443 0.41482605 0.43405166 0.43917888\n",
      " 0.44086757 0.44410527 0.44850627 0.45365775 0.45923176 0.46501076\n",
      " 0.47087035 0.4767493  0.48262298 0.48848364 0.49432915 0.50015861\n",
      " 0.50597054 0.51176322 0.51753581 0.52328908 0.52902538 0.53474951\n",
      " 0.54046762 0.54618764 0.55191803 0.55766875 0.56344938 0.56927007\n",
      " 0.57514042]\n",
      "26 day output [[0.5810693]]\n",
      "27 day input [0.3683269  0.35589735 0.36761154 0.35491368 0.35857999 0.36787979\n",
      " 0.38558528 0.38147186 0.37950458 0.37923632 0.39819368 0.40418493\n",
      " 0.39837253 0.39586874 0.38817847 0.3898775  0.3933649  0.39595814\n",
      " 0.39756772 0.39506393 0.399535   0.40168114 0.3933649  0.39390146\n",
      " 0.40033982 0.41741929 0.4208173  0.42448361 0.41446839 0.42806046\n",
      " 0.42466241 0.42949119 0.43154787 0.43780737 0.43387286 0.43253154\n",
      " 0.42493071 0.43002769 0.4242153  0.42019133 0.41715104 0.41706158\n",
      " 0.41867121 0.405258   0.39157647 0.38951979 0.39372261 0.39908789\n",
      " 0.3933649  0.38916214 0.39086111 0.39390146 0.39390146 0.40561565\n",
      " 0.40999732 0.417777   0.41411069 0.41822411 0.41759814 0.40704642\n",
      " 0.41080208 0.41044443 0.41482605 0.43405166 0.43917888 0.44086757\n",
      " 0.44410527 0.44850627 0.45365775 0.45923176 0.46501076 0.47087035\n",
      " 0.4767493  0.48262298 0.48848364 0.49432915 0.50015861 0.50597054\n",
      " 0.51176322 0.51753581 0.52328908 0.52902538 0.53474951 0.54046762\n",
      " 0.54618764 0.55191803 0.55766875 0.56344938 0.56927007 0.57514042\n",
      " 0.58106929]\n",
      "27 day output [[0.5870654]]\n",
      "28 day input [0.35589735 0.36761154 0.35491368 0.35857999 0.36787979 0.38558528\n",
      " 0.38147186 0.37950458 0.37923632 0.39819368 0.40418493 0.39837253\n",
      " 0.39586874 0.38817847 0.3898775  0.3933649  0.39595814 0.39756772\n",
      " 0.39506393 0.399535   0.40168114 0.3933649  0.39390146 0.40033982\n",
      " 0.41741929 0.4208173  0.42448361 0.41446839 0.42806046 0.42466241\n",
      " 0.42949119 0.43154787 0.43780737 0.43387286 0.43253154 0.42493071\n",
      " 0.43002769 0.4242153  0.42019133 0.41715104 0.41706158 0.41867121\n",
      " 0.405258   0.39157647 0.38951979 0.39372261 0.39908789 0.3933649\n",
      " 0.38916214 0.39086111 0.39390146 0.39390146 0.40561565 0.40999732\n",
      " 0.417777   0.41411069 0.41822411 0.41759814 0.40704642 0.41080208\n",
      " 0.41044443 0.41482605 0.43405166 0.43917888 0.44086757 0.44410527\n",
      " 0.44850627 0.45365775 0.45923176 0.46501076 0.47087035 0.4767493\n",
      " 0.48262298 0.48848364 0.49432915 0.50015861 0.50597054 0.51176322\n",
      " 0.51753581 0.52328908 0.52902538 0.53474951 0.54046762 0.54618764\n",
      " 0.55191803 0.55766875 0.56344938 0.56927007 0.57514042 0.58106929\n",
      " 0.5870654 ]\n",
      "28 day output [[0.5931362]]\n",
      "29 day input [0.36761154 0.35491368 0.35857999 0.36787979 0.38558528 0.38147186\n",
      " 0.37950458 0.37923632 0.39819368 0.40418493 0.39837253 0.39586874\n",
      " 0.38817847 0.3898775  0.3933649  0.39595814 0.39756772 0.39506393\n",
      " 0.399535   0.40168114 0.3933649  0.39390146 0.40033982 0.41741929\n",
      " 0.4208173  0.42448361 0.41446839 0.42806046 0.42466241 0.42949119\n",
      " 0.43154787 0.43780737 0.43387286 0.43253154 0.42493071 0.43002769\n",
      " 0.4242153  0.42019133 0.41715104 0.41706158 0.41867121 0.405258\n",
      " 0.39157647 0.38951979 0.39372261 0.39908789 0.3933649  0.38916214\n",
      " 0.39086111 0.39390146 0.39390146 0.40561565 0.40999732 0.417777\n",
      " 0.41411069 0.41822411 0.41759814 0.40704642 0.41080208 0.41044443\n",
      " 0.41482605 0.43405166 0.43917888 0.44086757 0.44410527 0.44850627\n",
      " 0.45365775 0.45923176 0.46501076 0.47087035 0.4767493  0.48262298\n",
      " 0.48848364 0.49432915 0.50015861 0.50597054 0.51176322 0.51753581\n",
      " 0.52328908 0.52902538 0.53474951 0.54046762 0.54618764 0.55191803\n",
      " 0.55766875 0.56344938 0.56927007 0.57514042 0.58106929 0.5870654\n",
      " 0.59313619]\n",
      "29 day output [[0.5992883]]\n",
      "[[0.4391788840293884], [0.4408675730228424], [0.44410526752471924], [0.44850626587867737], [0.45365774631500244], [0.45923176407814026], [0.46501076221466064], [0.47087034583091736], [0.4767493009567261], [0.48262298107147217], [0.48848363757133484], [0.49432915449142456], [0.5001586079597473], [0.5059705376625061], [0.5117632150650024], [0.5175358057022095], [0.5232890844345093], [0.5290253758430481], [0.5347495079040527], [0.5404676198959351], [0.5461876392364502], [0.5519180297851562], [0.5576687455177307], [0.5634493827819824], [0.5692700743675232], [0.5751404166221619], [0.58106929063797], [0.5870653986930847], [0.593136191368103], [0.599288284778595]]\n"
     ]
    }
   ],
   "source": [
    "from numpy import array\n",
    "\n",
    "lst_output=[]\n",
    "n_steps=91\n",
    "i=0\n",
    "while(i<30):\n",
    "    \n",
    "    if(len(temp_input)>91):\n",
    "        x_input=np.array(temp_input[1:])\n",
    "        print(\"{} day input {}\".format(i,x_input))\n",
    "        x_input=x_input.reshape(1,-1)\n",
    "        x_input = x_input.reshape((1, n_steps, 1))\n",
    "        yhat = model.predict(x_input, verbose=0)\n",
    "        print(\"{} day output {}\".format(i,yhat))\n",
    "        temp_input.extend(yhat[0].tolist())\n",
    "        temp_input=temp_input[1:]\n",
    "        lst_output.extend(yhat.tolist())\n",
    "        i=i+1\n",
    "    else:\n",
    "        x_input = x_input.reshape((1, n_steps,1))\n",
    "        yhat = model.predict(x_input, verbose=0)\n",
    "        print(yhat[0])\n",
    "        temp_input.extend(yhat[0].tolist())\n",
    "        print(len(temp_input))\n",
    "        lst_output.extend(yhat.tolist())\n",
    "        i=i+1\n",
    "    \n",
    "\n",
    "print(lst_output)"
   ]
  },
  {
   "cell_type": "code",
   "execution_count": 209,
   "id": "8d26b087",
   "metadata": {},
   "outputs": [],
   "source": [
    "day_new=np.arange(1,101)\n",
    "day_pred=np.arange(101\n",
    "                   ,131)"
   ]
  },
  {
   "cell_type": "code",
   "execution_count": 210,
   "id": "40934eb4",
   "metadata": {},
   "outputs": [],
   "source": [
    "import matplotlib.pyplot as plt"
   ]
  },
  {
   "cell_type": "code",
   "execution_count": 211,
   "id": "80af6ad7",
   "metadata": {},
   "outputs": [
    {
     "data": {
      "text/plain": [
       "1234"
      ]
     },
     "execution_count": 211,
     "metadata": {},
     "output_type": "execute_result"
    }
   ],
   "source": [
    "len(df1)"
   ]
  },
  {
   "cell_type": "code",
   "execution_count": 212,
   "id": "1e0eed59",
   "metadata": {},
   "outputs": [
    {
     "data": {
      "text/plain": [
       "[<matplotlib.lines.Line2D at 0x2b887356cb0>]"
      ]
     },
     "execution_count": 212,
     "metadata": {},
     "output_type": "execute_result"
    },
    {
     "data": {
      "image/png": "[encoded data removed]",
      "text/plain": [
       "<Figure size 640x480 with 1 Axes>"
      ]
     },
     "metadata": {},
     "output_type": "display_data"
    }
   ],
   "source": [
    "plt.plot(day_new,scaler.inverse_transform(df1[1134:]))\n",
    "plt.plot(day_pred,scaler.inverse_transform(lst_output))"
   ]
  },
  {
   "cell_type": "code",
   "execution_count": 213,
   "id": "4b08c0e6",
   "metadata": {},
   "outputs": [
    {
     "data": {
      "text/plain": [
       "[<matplotlib.lines.Line2D at 0x2b8873cf9d0>]"
      ]
     },
     "execution_count": 213,
     "metadata": {},
     "output_type": "execute_result"
    },
    {
     "data": {
      "image/png": "[encoded data removed]",
      "text/plain": [
       "<Figure size 640x480 with 1 Axes>"
      ]
     },
     "metadata": {},
     "output_type": "display_data"
    }
   ],
   "source": [
    "df3=df1.tolist()\n",
    "df3.extend(lst_output)\n",
    "plt.plot(df3[1134:])"
   ]
  },
  {
   "cell_type": "code",
   "execution_count": 214,
   "id": "a727f66a",
   "metadata": {},
   "outputs": [],
   "source": [
    "df3=scaler.inverse_transform(df3).tolist()"
   ]
  },
  {
   "cell_type": "code",
   "execution_count": 215,
   "id": "fd5ad1e4",
   "metadata": {},
   "outputs": [
    {
     "data": {
      "text/plain": [
       "[<matplotlib.lines.Line2D at 0x2b8873faf50>]"
      ]
     },
     "execution_count": 215,
     "metadata": {},
     "output_type": "execute_result"
    },
    {
     "data": {
      "image/png": "[encoded data removed]",
      "text/plain": [
       "<Figure size 640x480 with 1 Axes>"
      ]
     },
     "metadata": {},
     "output_type": "display_data"
    }
   ],
   "source": [
    "plt.plot(df3)"
   ]
  }
 ],
 "metadata": {
  "kernelspec": {
   "display_name": "Python 3 (ipykernel)",
   "language": "python",
   "name": "python3"
  },
  "language_info": {
   "codemirror_mode": {
    "name": "ipython",
    "version": 3
   },
   "file_extension": ".py",
   "mimetype": "text/x-python",
   "name": "python",
   "nbconvert_exporter": "python",
   "pygments_lexer": "ipython3",
   "version": "3.10.9"
  }
 },
 "nbformat": 4,
 "nbformat_minor": 5
}
